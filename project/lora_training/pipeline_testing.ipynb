{
 "cells": [
  {
   "cell_type": "markdown",
   "metadata": {},
   "source": [
    "## Base Model Outputs"
   ]
  },
  {
   "cell_type": "markdown",
   "metadata": {},
   "source": [
    "### One token input"
   ]
  },
  {
   "cell_type": "code",
   "execution_count": 10,
   "metadata": {},
   "outputs": [],
   "source": [
    "import torch\n",
    "from transformers import AutoModelForCausalLM, AutoTokenizer\n",
    "\n",
    "# Initialize model and tokenizer\n",
    "model_name = \"meta-llama/Llama-3.2-1B\"  # Starting with small model for quick testing\n",
    "tokenizer = AutoTokenizer.from_pretrained(model_name)\n",
    "model = AutoModelForCausalLM.from_pretrained(model_name)"
   ]
  },
  {
   "cell_type": "code",
   "execution_count": 11,
   "metadata": {},
   "outputs": [
    {
     "name": "stdout",
     "output_type": "stream",
     "text": [
      "1. Input token shape:\n",
      "torch.Size([1, 2])\n",
      "\n",
      "2. Raw tokens:\n",
      "tensor([[128000,   9906]])\n",
      "\n",
      "3. Decoded tokens:\n",
      "['<|begin_of_text|>', 'Hello']\n"
     ]
    }
   ],
   "source": [
    "text = \"Hello\"\n",
    "inputs = tokenizer(text, return_tensors=\"pt\")\n",
    "\n",
    "print(\"1. Input token shape:\")\n",
    "print(inputs.input_ids.shape)\n",
    "print(\"\\n2. Raw tokens:\")\n",
    "print(inputs.input_ids)\n",
    "print(\"\\n3. Decoded tokens:\")\n",
    "print([tokenizer.decode(token) for token in inputs.input_ids[0]])"
   ]
  },
  {
   "cell_type": "code",
   "execution_count": 12,
   "metadata": {},
   "outputs": [
    {
     "name": "stdout",
     "output_type": "stream",
     "text": [
      "\n",
      "4. Output keys available:\n",
      "odict_keys(['logits', 'past_key_values'])\n",
      "\n",
      "5. Logits shape:\n",
      "torch.Size([1, 2, 128256])\n",
      "\n",
      "6. First token logits - first few values:\n",
      "tensor([ 7.0544,  9.0268, 13.3233,  7.4430,  6.6442,  4.7626,  7.9645,  8.4361,\n",
      "         4.6576,  8.5365], grad_fn=<SliceBackward0>)\n",
      "First 10 tokens:  ['!', '\"', '#', '$', '%', '&', \"'\", '(', ')', '*']\n"
     ]
    }
   ],
   "source": [
    "outputs = model(input_ids=inputs.input_ids)\n",
    "\n",
    "print(\"\\n4. Output keys available:\")\n",
    "print(outputs.keys())\n",
    "print(\"\\n5. Logits shape:\")\n",
    "print(outputs.logits.shape)\n",
    "print(\"\\n6. First token logits - first few values:\")\n",
    "print(outputs.logits[0, 0, :10])  # First batch, first position, first 10 logits\n",
    "print(\"First 10 tokens: \", [tokenizer.decode(token) for token in range(10)])"
   ]
  },
  {
   "cell_type": "code",
   "execution_count": 13,
   "metadata": {},
   "outputs": [
    {
     "name": "stdout",
     "output_type": "stream",
     "text": [
      "First 10 token probabilities:  tensor([1.2692e-04, 9.1234e-04, 6.7000e-02, 1.8720e-04, 8.4212e-05, 1.2829e-05,\n",
      "        3.1536e-04, 5.0538e-04, 1.1551e-05, 5.5876e-04],\n",
      "       grad_fn=<SliceBackward0>)\n",
      "\n",
      "7. Top 5 next tokens and their probabilities:\n",
      "Token: 'Question', Probability: 0.3013\n",
      "Token: 'def', Probability: 0.1072\n",
      "Token: '#', Probability: 0.0670\n",
      "Token: 'The', Probability: 0.0267\n",
      "Token: 'Tags', Probability: 0.0133\n"
     ]
    }
   ],
   "source": [
    "# Get actual probabilities for next token (for first position)\n",
    "next_token_probs = torch.softmax(outputs.logits[0, 0], dim=-1)\n",
    "top_k = 5\n",
    "top_probs, top_indices = torch.topk(next_token_probs, top_k)\n",
    "\n",
    "print(\"First 10 token probabilities: \", next_token_probs[:10])\n",
    "\n",
    "print(\"\\n7. Top 5 next tokens and their probabilities:\")\n",
    "for prob, idx in zip(top_probs, top_indices):\n",
    "    token = tokenizer.decode(idx)\n",
    "    print(f\"Token: '{token}', Probability: {prob:.4f}\")"
   ]
  },
  {
   "cell_type": "markdown",
   "metadata": {},
   "source": [
    "### Few token input"
   ]
  },
  {
   "cell_type": "code",
   "execution_count": 14,
   "metadata": {},
   "outputs": [
    {
     "name": "stdout",
     "output_type": "stream",
     "text": [
      "1. Input token shape:\n",
      "torch.Size([1, 3])\n",
      "\n",
      "2. Raw tokens:\n",
      "tensor([[128000,   9906,   1917]])\n",
      "\n",
      "3. Decoded tokens:\n",
      "['<|begin_of_text|>', 'Hello', ' world']\n"
     ]
    }
   ],
   "source": [
    "text = \"Hello world\"\n",
    "inputs = tokenizer(text, return_tensors=\"pt\")\n",
    "\n",
    "print(\"1. Input token shape:\")\n",
    "print(inputs.input_ids.shape)\n",
    "print(\"\\n2. Raw tokens:\")\n",
    "print(inputs.input_ids)\n",
    "print(\"\\n3. Decoded tokens:\")\n",
    "print([tokenizer.decode(token) for token in inputs.input_ids[0]])"
   ]
  },
  {
   "cell_type": "code",
   "execution_count": 15,
   "metadata": {},
   "outputs": [
    {
     "name": "stdout",
     "output_type": "stream",
     "text": [
      "\n",
      "4. Logits shape:\n",
      "torch.Size([1, 3, 128256])\n"
     ]
    }
   ],
   "source": [
    "# Get model outputs\n",
    "outputs = model(input_ids=inputs.input_ids)\n",
    "\n",
    "print(\"\\n4. Logits shape:\")\n",
    "print(outputs.logits.shape) # (batch_size, sequence_length, vocab_size)"
   ]
  },
  {
   "cell_type": "code",
   "execution_count": 16,
   "metadata": {},
   "outputs": [
    {
     "name": "stdout",
     "output_type": "stream",
     "text": [
      "\n",
      "5. Position 0 (token: '<|begin_of_text|>')\n",
      "Top 5 next tokens after position 0:\n",
      "Token: 'Question', Probability: 0.3013\n",
      "Token: 'def', Probability: 0.1072\n",
      "Token: '#', Probability: 0.0670\n",
      "Token: 'The', Probability: 0.0267\n",
      "Token: 'Tags', Probability: 0.0133\n",
      "\n",
      "5. Position 1 (token: 'Hello')\n",
      "Top 5 next tokens after position 1:\n",
      "Token: ',', Probability: 0.2319\n",
      "Token: '!', Probability: 0.0987\n",
      "Token: ' everyone', Probability: 0.0815\n",
      "Token: ' and', Probability: 0.0668\n",
      "Token: ' there', Probability: 0.0348\n",
      "\n",
      "5. Position 2 (token: ' world')\n",
      "Top 5 next tokens after position 2:\n",
      "Token: '!', Probability: 0.4950\n",
      "Token: ',', Probability: 0.1416\n",
      "Token: '.', Probability: 0.0590\n",
      "Token: '!\n",
      "\n",
      "', Probability: 0.0391\n",
      "Token: '\n",
      "\n",
      "', Probability: 0.0135\n"
     ]
    }
   ],
   "source": [
    "# Let's look at the logits for each position\n",
    "for position in range(inputs.input_ids.shape[1]):\n",
    "    print(f\"\\n5. Position {position} (token: '{tokenizer.decode(inputs.input_ids[0][position])}')\")\n",
    "    next_token_probs = torch.softmax(outputs.logits[0, position], dim=-1)\n",
    "    top_k = 5\n",
    "    top_probs, top_indices = torch.topk(next_token_probs, top_k)\n",
    "    \n",
    "    print(f\"Top 5 next tokens after position {position}:\")\n",
    "    for prob, idx in zip(top_probs, top_indices):\n",
    "        token = tokenizer.decode(idx)\n",
    "        print(f\"Token: '{token}', Probability: {prob:.4f}\")"
   ]
  },
  {
   "cell_type": "markdown",
   "metadata": {},
   "source": [
    "## Token Step"
   ]
  },
  {
   "cell_type": "code",
   "execution_count": null,
   "metadata": {},
   "outputs": [],
   "source": [
    "import torch\n",
    "from transformers import AutoModelForCausalLM, AutoTokenizer\n",
    "\n",
    "# Initialize model and tokenizer\n",
    "model_name = \"meta-llama/Llama-3.2-1B\"  # Starting with small model for quick testing\n",
    "tokenizer = AutoTokenizer.from_pretrained(model_name)\n",
    "base_model = AutoModelForCausalLM.from_pretrained(model_name)"
   ]
  },
  {
   "cell_type": "code",
   "execution_count": 22,
   "metadata": {},
   "outputs": [],
   "source": [
    "def get_model_prediction(model, tokenizer, context, target_prefix):\n",
    "    \"\"\"\n",
    "    Get model's prediction for next token given context and target prefix.\n",
    "    \"\"\"\n",
    "    # Add begin_of_text only to context\n",
    "    if not context.startswith(\"<|begin_of_text|>\"):\n",
    "        context = \"<|begin_of_text|>\" + context\n",
    "    \n",
    "    # Tokenize context and target prefix\n",
    "    context_tokens = tokenizer(context, return_tensors=\"pt\", add_special_tokens=False)\n",
    "    target_prefix_tokens = tokenizer(target_prefix, return_tensors=\"pt\", add_special_tokens=False)\n",
    "    \n",
    "    print(\"Context length: \", len(context_tokens.input_ids[0]))\n",
    "    print(\"Target prefix length: \", len(target_prefix_tokens.input_ids[0]))\n",
    "\n",
    "    # Concatenate context and target prefix\n",
    "    input_ids = torch.cat([\n",
    "        context_tokens.input_ids,\n",
    "        target_prefix_tokens.input_ids\n",
    "    ], dim=1)\n",
    "    \n",
    "    print(\"Input shape:\", input_ids.shape)\n",
    "    print(\"Tokens:\", [tokenizer.decode(token) for token in input_ids[0]])\n",
    "    \n",
    "    # Get model outputs\n",
    "    outputs = model(input_ids=input_ids)\n",
    "    logits = outputs.logits\n",
    "    \n",
    "    # Get probabilities for next token (last position)\n",
    "    next_token_logits = logits[0, -1, :]  # [vocab_size]\n",
    "    next_token_probs = torch.softmax(next_token_logits, dim=-1)\n",
    "    \n",
    "    return next_token_probs"
   ]
  },
  {
   "cell_type": "code",
   "execution_count": 23,
   "metadata": {},
   "outputs": [
    {
     "name": "stdout",
     "output_type": "stream",
     "text": [
      "Context length:  5\n",
      "Target prefix length:  1\n",
      "Input shape: torch.Size([1, 6])\n",
      "Tokens: ['<|begin_of_text|>', 'The', ' cat', ' sat', ' on', ' the']\n"
     ]
    }
   ],
   "source": [
    "# Test it\n",
    "context = \"The cat sat on\"\n",
    "target_prefix = \" the\"\n",
    "next_token_probs = get_model_prediction(base_model, tokenizer, context, target_prefix)"
   ]
  },
  {
   "cell_type": "code",
   "execution_count": 24,
   "metadata": {},
   "outputs": [
    {
     "name": "stdout",
     "output_type": "stream",
     "text": [
      "\n",
      "Top 5 predicted next tokens:\n",
      "Token: ' mat', Probability: 0.7249\n",
      "Token: ' table', Probability: 0.0156\n",
      "Token: ' lap', Probability: 0.0141\n",
      "Token: ' hat', Probability: 0.0135\n",
      "Token: ' hot', Probability: 0.0116\n"
     ]
    }
   ],
   "source": [
    "# Print top 5 predicted tokens\n",
    "top_k = 5\n",
    "top_probs, top_indices = torch.topk(next_token_probs, top_k)\n",
    "print(\"\\nTop 5 predicted next tokens:\")\n",
    "for prob, idx in zip(top_probs, top_indices):\n",
    "    token = tokenizer.decode(idx)\n",
    "    print(f\"Token: '{token}', Probability: {prob:.4f}\")"
   ]
  },
  {
   "cell_type": "code",
   "execution_count": null,
   "metadata": {},
   "outputs": [],
   "source": []
  }
 ],
 "metadata": {
  "kernelspec": {
   "display_name": "reasoning",
   "language": "python",
   "name": "python3"
  },
  "language_info": {
   "codemirror_mode": {
    "name": "ipython",
    "version": 3
   },
   "file_extension": ".py",
   "mimetype": "text/x-python",
   "name": "python",
   "nbconvert_exporter": "python",
   "pygments_lexer": "ipython3",
   "version": "3.10.13"
  }
 },
 "nbformat": 4,
 "nbformat_minor": 2
}
